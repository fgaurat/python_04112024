{
 "cells": [
  {
   "cell_type": "code",
   "execution_count": null,
   "metadata": {},
   "outputs": [],
   "source": [
    "a = 3"
   ]
  },
  {
   "cell_type": "code",
   "execution_count": null,
   "metadata": {},
   "outputs": [],
   "source": [
    "a"
   ]
  },
  {
   "cell_type": "code",
   "execution_count": null,
   "metadata": {},
   "outputs": [],
   "source": [
    "from CustomerDAO import CustomerDAO\n",
    "dao = CustomerDAO(r'..\\customers_db.db')\n",
    "customers = list(dao.find_all())\n"
   ]
  },
  {
   "cell_type": "code",
   "execution_count": null,
   "metadata": {},
   "outputs": [],
   "source": [
    "import pandas as pd\n",
    "df = pd.DataFrame(customers)\n",
    "df"
   ]
  },
  {
   "cell_type": "code",
   "execution_count": null,
   "metadata": {},
   "outputs": [
    {
     "name": "stdout",
     "output_type": "stream",
     "text": [
      " Le volume dans le lecteur C n'a pas de nom.\n",
      " Le num�ro de s�rie du volume est C853-1E5D\n",
      "\n",
      " R�pertoire de c:\\Users\\orsys\\Desktop\\python_04112024\\ch10_3\n",
      "\n",
      "08/11/2024  11:23    <DIR>          .\n",
      "08/11/2024  11:23    <DIR>          ..\n",
      "08/11/2024  10:20    <DIR>          .venv\n",
      "08/11/2024  09:55             1�027 app.py\n",
      "07/11/2024  11:02               202 Customer.py\n",
      "07/11/2024  11:35               522 CustomerDAO.py\n",
      "08/11/2024  11:38             1�274 customers_nb.ipynb\n",
      "08/11/2024  10:56               543 main_streamlit.py\n",
      "08/11/2024  11:10    <DIR>          pages\n",
      "08/11/2024  10:17               674 readme.md\n",
      "07/11/2024  16:35    <DIR>          templates\n",
      "08/11/2024  09:55    <DIR>          __pycache__\n",
      "               6 fichier(s)            4�242 octets\n",
      "               6 R�p(s)  382�277�070�848 octets libres\n"
     ]
    }
   ],
   "source": [
    "# ! pip install requests"
   ]
  }
 ],
 "metadata": {
  "kernelspec": {
   "display_name": ".venv",
   "language": "python",
   "name": "python3"
  },
  "language_info": {
   "codemirror_mode": {
    "name": "ipython",
    "version": 3
   },
   "file_extension": ".py",
   "mimetype": "text/x-python",
   "name": "python",
   "nbconvert_exporter": "python",
   "pygments_lexer": "ipython3",
   "version": "3.12.5"
  }
 },
 "nbformat": 4,
 "nbformat_minor": 2
}
